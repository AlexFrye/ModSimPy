{
 "cells": [
  {
   "cell_type": "markdown",
   "metadata": {},
   "source": [
    "Iron Man Deceleration Model\n",
    "ModSim Final Project\n",
    "\n",
    "Alex Frye | Eamon O'Brien\n"
   ]
  },
  {
   "cell_type": "markdown",
   "metadata": {},
   "source": [
    "Mk. VI Suit:\n",
    "\n",
    "Drag Coefficients: \n",
    "0.6 - 1.1\n",
    "http://cozybeehive.blogspot.com/2011/01/aerodynamic-drag-chart-for-human.html\n",
    "\n",
    "Suit Weight\n",
    "\t240 lbs.. + tony’s weight (170 lbs.) = 410 lbs.\n",
    "http://www.marveldirectory.com/miscellaneous/ironmanmarkvi.htm\n",
    "\n",
    "\n",
    "Cruise Speed\n",
    "\tMax Speed - Mach 1.2\n",
    "http://www.marveldirectory.com/miscellaneous/ironmanmarkvi.htm\n",
    "\n",
    "Cruise Speed - assume Mach .85 (cruise speed B747) = 570 mph\n"
   ]
  },
  {
   "cell_type": "code",
   "execution_count": null,
   "metadata": {
    "collapsed": true
   },
   "outputs": [],
   "source": [
    "radian = UNITS.radian\n",
    "m = UNITS.meter\n",
    "s = UNITS.second\n",
    "kg = UNITS.kilogram\n",
    "\n",
    "condition = Condition(g=-9/8*m/s**2\n",
    "                      duration = 120 * s, \n",
    "                      mass=186*kg, \n",
    "                      v_inital=255*m/s,\n",
    "                      cd_flight = 0.6, \n",
    "                      cd_hover = 1.1)\n",
    "#Condition - constants\n",
    "#System - variables"
   ]
  },
  {
   "cell_type": "code",
   "execution_count": null,
   "metadata": {
    "collapsed": true
   },
   "outputs": [],
   "source": [
    "def make_system(condidtion):\n",
    "    unpack(condition)\n",
    "    \n",
    "    vx = v_initial \n",
    "    vy = 0\n",
    "    init = State(x=x, y=y, vx=vx, vy=vy)\n",
    "    cd = linspace(cd_flight, cd_hover, duration) #start, stop, step count\n",
    "    ts = linrange(0,duration, 1) #start, stop, jump\n",
    "    "
   ]
  },
  {
   "cell_type": "code",
   "execution_count": null,
   "metadata": {
    "collapsed": true
   },
   "outputs": [],
   "source": [
    "def slope_func(state, t, system):\n",
    "    "
   ]
  },
  {
   "cell_type": "code",
   "execution_count": null,
   "metadata": {
    "collapsed": true
   },
   "outputs": [],
   "source": [
    "run_odeint(system, slope_func)"
   ]
  },
  {
   "cell_type": "code",
   "execution_count": null,
   "metadata": {
    "collapsed": true
   },
   "outputs": [],
   "source": [
    "newfig()\n"
   ]
  }
 ],
 "metadata": {
  "kernelspec": {
   "display_name": "Python 3",
   "language": "python",
   "name": "python3"
  },
  "language_info": {
   "codemirror_mode": {
    "name": "ipython",
    "version": 3
   },
   "file_extension": ".py",
   "mimetype": "text/x-python",
   "name": "python",
   "nbconvert_exporter": "python",
   "pygments_lexer": "ipython3",
   "version": "3.6.1"
  }
 },
 "nbformat": 4,
 "nbformat_minor": 2
}
