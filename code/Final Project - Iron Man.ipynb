{
 "cells": [
  {
   "cell_type": "markdown",
   "metadata": {},
   "source": [
    "Iron Man Deceleration Model\n",
    "ModSim Final Project\n",
    "\n",
    "Alex Frye | Eamon O'Brien\n"
   ]
  },
  {
   "cell_type": "markdown",
   "metadata": {},
   "source": [
    "Mk. VI Suit:\n",
    "\n",
    "Drag Coefficients: \n",
    "0.6 - 1.1\n",
    "http://cozybeehive.blogspot.com/2011/01/aerodynamic-drag-chart-for-human.html\n",
    "\n",
    "Suit Weight\n",
    "\t240 lbs.. + tony’s weight (170 lbs.)\n",
    "http://www.marveldirectory.com/miscellaneous/ironmanmarkvi.htm\n",
    "\n",
    "\n",
    "Cruise Speed\n",
    "\tMax Speed - Mach 1.2\n",
    "http://www.marveldirectory.com/miscellaneous/ironmanmarkvi.htm\n",
    "\n",
    "Cruise Speed - assume Mach .85 (cruise speed B747) = 570 mph\n"
   ]
  },
  {
   "cell_type": "code",
   "execution_count": null,
   "metadata": {
    "collapsed": true
   },
   "outputs": [],
   "source": [
    "#start coding sometime, I guess"
   ]
  }
 ],
 "metadata": {
  "kernelspec": {
   "display_name": "Python 3",
   "language": "python",
   "name": "python3"
  },
  "language_info": {
   "codemirror_mode": {
    "name": "ipython",
    "version": 3
   },
   "file_extension": ".py",
   "mimetype": "text/x-python",
   "name": "python",
   "nbconvert_exporter": "python",
   "pygments_lexer": "ipython3",
   "version": "3.6.1"
  }
 },
 "nbformat": 4,
 "nbformat_minor": 2
}
